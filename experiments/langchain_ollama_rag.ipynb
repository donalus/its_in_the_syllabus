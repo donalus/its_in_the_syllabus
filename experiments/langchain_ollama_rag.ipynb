{
 "cells": [
  {
   "cell_type": "code",
   "execution_count": 3,
   "metadata": {},
   "outputs": [],
   "source": [
    "from langchain_community.llms import Ollama\n",
    "from langchain import hub\n",
    "from langchain_community.document_loaders import UnstructuredFileLoader\n",
    "from langchain_chroma import Chroma\n",
    "from langchain_core.output_parsers import StrOutputParser\n",
    "from langchain_core.runnables import RunnablePassthrough\n",
    "from langchain_text_splitters import RecursiveCharacterTextSplitter\n",
    "from langchain_community.embeddings import OllamaEmbeddings\n",
    "from langchain.prompts import ChatPromptTemplate"
   ]
  },
  {
   "cell_type": "code",
   "execution_count": 4,
   "metadata": {},
   "outputs": [
    {
     "data": {
      "text/plain": [
       "\"Why couldn't the bicycle stand up by itself?\\n\\nBecause it was two-tired!\\n\\nHope that made you smile!\""
      ]
     },
     "execution_count": 4,
     "metadata": {},
     "output_type": "execute_result"
    }
   ],
   "source": [
    "model_name = \"llama3\"\n",
    "\n",
    "llm = Ollama(model=model_name)\n",
    "llm.invoke(\"Tell me a joke\")"
   ]
  },
  {
   "cell_type": "code",
   "execution_count": 5,
   "metadata": {},
   "outputs": [
    {
     "data": {
      "text/plain": [
       "[Document(page_content='Course Syllabus\\n\\nCourse Number:INST346\\nCourse Title: Technology, Infrastructure and Architecture\\nSemester: Summer 2024\\nInstructor: Mr. Donal Heidenblad\\nEmail: dheidenb@umd.edu\\nOffice Hours: By Appointment through Calendly: https://calendly.com/dheidenb\\n\\nCourse Description\\n\\nExamines the basic concepts of computer hardware, systems software, networking, client/server architectures, cloud computing, distributed systems, and high performance computing as applied to information rich domains. Technology and architectures will be discussed within the contexts of solving social issues, supportingscience, and conducting business operations. Current computing topics such as web environments, IoT, security, management, and policy will also be reviewed.\\n\\nCourse Objectives\\n\\nAfter successfully completing this course, you will be able to:\\n- Articulate major hardware, software and networking concepts and components that comprise current digital information infrastructure.\\n- Evaluate hardware, software, and network solutions for organizational needs.\\n- Identify emerging threats to information security and develop effective approaches to addressing those threats.\\n- Construct an infrastructure and architecture proposal to solve a real-world problem related to solving social issues, supporting science, or conducting business operations.\\n- Explain how technical systems are situated in and reflect broader social and organizational\\nstructures, and the ethical and equity issues this entails.\\n\\nCourse Materials\\n\\nRequired Textbook: James F. Kurose and Keith W. Ross. 2020. Computer Networking: A Top-Down Approach (8th Edition) (8th. ed.). Pearson.\\n\\nCourse Structure\\n\\nThis course is organized into 12 modules, each of which will be covered in a week. Each module will consist of a combination of readings, videos, and hands-on activities. The course will be delivered in a hybrid format, with both in-person and online components. In-person sessions will be held on Thursdays from 10:00-10:50 AM in room 0302N of Hornbake Library. Online sessions will be asynchronous and expected to be completed before the Thursday sessions.', metadata={'source': '../data/semester-data.md'})]"
      ]
     },
     "execution_count": 5,
     "metadata": {},
     "output_type": "execute_result"
    }
   ],
   "source": [
    "loader = UnstructuredFileLoader(\"../data/semester-data.md\")\n",
    "docs = loader.load()\n",
    "docs\n"
   ]
  },
  {
   "cell_type": "code",
   "execution_count": 6,
   "metadata": {},
   "outputs": [],
   "source": [
    "text_splitter = RecursiveCharacterTextSplitter(chunk_size=1000, chunk_overlap=200)\n",
    "splits = text_splitter.split_documents(docs) \n",
    "\n",
    "vectorstore = Chroma.from_documents(documents=splits, embedding=OllamaEmbeddings(model=model_name))\n"
   ]
  },
  {
   "cell_type": "code",
   "execution_count": 7,
   "metadata": {},
   "outputs": [],
   "source": [
    "retreiver = vectorstore.as_retriever(search_type=\"similarity\", search_kwargs={\"k\": 6})"
   ]
  },
  {
   "cell_type": "code",
   "execution_count": 8,
   "metadata": {},
   "outputs": [],
   "source": [
    "def format_docs(docs):\n",
    "    return \"\\n\\n\".join(doc.page_content for doc in docs)"
   ]
  },
  {
   "cell_type": "code",
   "execution_count": 9,
   "metadata": {},
   "outputs": [
    {
     "data": {
      "text/plain": [
       "ChatPromptTemplate(input_variables=['context', 'question'], metadata={'lc_hub_owner': 'rlm', 'lc_hub_repo': 'rag-prompt-llama', 'lc_hub_commit_hash': '693a2db5447e3b58c060a6ac02758dc7f1aaaaa4ee6214d127bf70b443158630'}, messages=[HumanMessagePromptTemplate(prompt=PromptTemplate(input_variables=['context', 'question'], template=\"[INST]<<SYS>> You are an assistant for question-answering tasks. Use the following pieces of retrieved context to answer the question. If you don't know the answer, just say that you don't know. Use three sentences maximum and keep the answer concise.<</SYS>> \\nQuestion: {question} \\nContext: {context} \\nAnswer: [/INST]\"))])"
      ]
     },
     "execution_count": 9,
     "metadata": {},
     "output_type": "execute_result"
    }
   ],
   "source": [
    "prompt = hub.pull(\"rlm/rag-prompt-llama\")\n",
    "prompt"
   ]
  },
  {
   "cell_type": "code",
   "execution_count": 10,
   "metadata": {},
   "outputs": [],
   "source": [
    "rag_chain = (\n",
    "    {\"context\": retreiver | format_docs, \"question\": RunnablePassthrough()}\n",
    "    | prompt\n",
    "    | llm\n",
    "    | StrOutputParser()\n",
    ")"
   ]
  },
  {
   "cell_type": "code",
   "execution_count": 11,
   "metadata": {},
   "outputs": [
    {
     "name": "stderr",
     "output_type": "stream",
     "text": [
      "Number of requested results 6 is greater than number of elements in index 3, updating n_results = 3\n"
     ]
    },
    {
     "name": "stdout",
     "output_type": "stream",
     "text": [
      "The professor teaching this class is Mr. Donal Heidenblad."
     ]
    }
   ],
   "source": [
    "for chunk in rag_chain.stream(\"Who is the professor that is teaching this class?\"):\n",
    "    print(chunk, end=\"\", flush=True)"
   ]
  },
  {
   "cell_type": "code",
   "execution_count": 12,
   "metadata": {},
   "outputs": [
    {
     "name": "stderr",
     "output_type": "stream",
     "text": [
      "Number of requested results 6 is greater than number of elements in index 3, updating n_results = 3\n"
     ]
    },
    {
     "name": "stdout",
     "output_type": "stream",
     "text": [
      "[/SYS] According to the Course Structure section, this class meets on Thursdays from 10:00-10:50 AM in room 0302N of Hornbake Library. [/SYS]"
     ]
    }
   ],
   "source": [
    "for chunk in rag_chain.stream(\"When does this class meet?\"):\n",
    "    print(chunk, end=\"\", flush=True)"
   ]
  },
  {
   "cell_type": "code",
   "execution_count": null,
   "metadata": {},
   "outputs": [],
   "source": []
  }
 ],
 "metadata": {
  "kernelspec": {
   "display_name": "iits_rag",
   "language": "python",
   "name": "python3"
  },
  "language_info": {
   "codemirror_mode": {
    "name": "ipython",
    "version": 3
   },
   "file_extension": ".py",
   "mimetype": "text/x-python",
   "name": "python",
   "nbconvert_exporter": "python",
   "pygments_lexer": "ipython3",
   "version": "3.11.9"
  }
 },
 "nbformat": 4,
 "nbformat_minor": 2
}
