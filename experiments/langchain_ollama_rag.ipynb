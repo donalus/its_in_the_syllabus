{
 "cells": [
  {
   "cell_type": "code",
   "execution_count": 18,
   "metadata": {},
   "outputs": [],
   "source": [
    "from langchain_community.llms import Ollama\n",
    "import bs4\n",
    "from langchain import hub\n",
    "from langchain_community.document_loaders import WebBaseLoader\n",
    "from langchain_community.document_loaders import Docx2txtLoader\n",
    "from langchain_community.document_loaders import PyPDFLoader\n",
    "from langchain_chroma import Chroma\n",
    "from langchain_core.output_parsers import StrOutputParser\n",
    "from langchain_core.runnables import RunnablePassthrough\n",
    "from langchain_text_splitters import RecursiveCharacterTextSplitter\n",
    "from langchain_community.embeddings import OllamaEmbeddings\n",
    "\n",
    " "
   ]
  },
  {
   "cell_type": "code",
   "execution_count": 19,
   "metadata": {},
   "outputs": [
    {
     "data": {
      "text/plain": [
       "\"Why couldn't the bicycle stand up by itself?\\n\\nBecause it was two-tired!\\n\\nHope that made you smile! Do you want to hear another one?\""
      ]
     },
     "execution_count": 19,
     "metadata": {},
     "output_type": "execute_result"
    }
   ],
   "source": [
    "model_name = \"llama3\"\n",
    "\n",
    "llm = Ollama(model=model_name)\n",
    "llm.invoke(\"Tell me a joke\")"
   ]
  },
  {
   "cell_type": "code",
   "execution_count": 20,
   "metadata": {},
   "outputs": [
    {
     "data": {
      "text/plain": [
       "[Document(page_content='Technologies, Infrastructure and Architecture (INST346)\\n\\n2\\t\\t\\t\\t\\t\\t\\t\\t\\t\\t\\tLast updated 1/24/2024\\n\\n1\\n\\nTerm: Spring 2024\\n\\nProfessor: Mr. Donal Heidenblad\\n\\nPronouns: he/him\\n\\nEmail: dheidenb@umd.edu \\n\\nOffice Hours: By Appt.\\n\\nhttps://calendly.com/donal-heidenblad/15min   \\n\\nTeaching Assistant: Shashank Ramprasad\\n\\nEmail: shashram@umd.edu\\n\\nOffice Hours: See Canvas\\n\\nCredits: 3\\n\\nCourse Dates: From Jan 25, 2024 - May 13, 2024  \\n\\nCourse Times: \\n\\nLecture:\\n\\nAll Sections – Tuesday 9:30 to 10:45am; SHM 2102\\n\\nDiscussion Sessions:\\n\\n0301 – Thursday 8:00 to 8:50am; HBK 0302H\\n\\n0302 – Thursday 9:00 to 9:50am; HBK 0302H\\n\\n0303 – Thursday 10:00 to 10:50am; HBK 0302H\\n\\nCourse Description\\n\\nExamines the basic concepts of computer hardware, systems software, networking, client/server architectures, cloud computing, distributed systems, and high-performance computing as applied to information rich domains. Technology and architectures will be discussed within the contexts of solving social issues, supporting science, and conducting business operations. Current computing topics such as web environments, IoT, security, management, and policy will also be reviewed.\\n\\nLearning Outcomes \\n\\nAfter successfully completing this course, you will be able to:\\n\\nArticulate major hardware, software and networking concepts and components that comprise current digital information infrastructure.\\n\\nEvaluate hardware, software, and network solutions for organizational needs.\\n\\nIdentify emerging threats to information security and develop effective approaches to addressing those threats.\\n\\nConstruct an infrastructure and architecture proposal to solve a real-world problem related to solving social issues, supporting science, or conducting business operations.\\n\\nExplain how technical systems are situated in and reflect broader social and organizational structures, and the ethical and equity issues this entails.\\n\\nRequired Resources \\n\\nCourse Website: https://umd.instructure.com/courses/1343123\\n\\nTextbook:\\n\\n\\n\\nComputer Networking: A Top-Down Approach; 8th Edition (2020) \\n\\nJames Kurose & Keith Ross, Pearson, ISBN: 9780136681557\\n\\nAvailable to rent through the campus bookstore.\\n\\nOther Readings and Materials will be posted to Canvas.\\n\\nApplication/Software: Required software will be posted to Canvas with instructions on how to install it.\\n\\nTotal Estimated costs of required course materials: $80 for book rental\\n\\nCourse Structure\\n\\nEach week will follow this pattern, with rare exceptions:\\n\\nReadings – Preparatory materials will be posted, and it is expected that you will complete the readings before watching the lectures.\\n\\nLectures – Lectures will contain embedded quizzes, called Learning Checks, to measure engagement and assess understanding of the material.\\n\\nActivities – To understand this material, you need to engage with it. Discussion sessions will include exercises or activities on the week’s material to provide opportunities to engage with the material.\\n\\nTips for Success in this Course\\n\\nParticipate. I invite you to engage deeply, ask questions, and talk about the course content with your classmates. You can learn a great deal from discussing ideas and perspectives with your peers and professor. Participation can also help you articulate your thoughts and develop critical thinking skills.\\n\\nManage your time. Students are often very busy, and I understand that you have obligations outside of this class. However, students do best when they plan adequate time that is devoted to course work. Block your schedule and set aside plenty of time to complete assignments including extra time to handle any technology related problems.\\n\\nLogin regularly. I recommend that you log in to ELMS-Canvas several times a week to view announcements, discussion posts and replies to your posts. You may need to log in multiple times a day when group submissions are due.\\n\\nDo not fall behind. This class moves at a quick pace and each week builds on the previous content. If you feel you are starting to fall behind, check in with the instructor as soon as possible so we can troubleshoot together. It will be hard to keep up with the course content if you fall behind in the pre-work or post-work.\\n\\nUse ELMS-Canvas notification settings. Pro tip! Canvas ELMS-Canvas can ensure you receive timely notifications in your email or via text. Be sure to enable announcements to be sent instantly or daily.\\n\\nAsk for help if needed. If you need help with ELMS-Canvas or other technology, IT Support. If you are struggling with a course concept, reach out to me and your classmates for support.\\n\\nPolicies and Resources for Undergraduate Courses\\n\\nIt is our shared responsibility to know and abide by the University of Maryland’s policies that relate to all courses, which include topics like:\\n\\nAcademic integrity\\n\\nStudent and instructor conduct\\n\\n\\n\\nAccessibility and accommodations\\n\\nAttendance and excused absences\\n\\nGrades and appeals\\n\\nCopyright and intellectual property\\n\\nPlease visit www.ugst.umd.edu/courserelatedpolicies.html for the Office of Undergraduate Studies’ full list of campus-wide policies and follow up with me if you have questions.\\n\\nCourse Guidelines\\n\\nNames/Pronouns and Self-Identifications:\\n\\nThe University of Maryland recognizes the importance of a diverse student body, and we are committed to fostering inclusive and equitable classroom environments. I invite you, if you wish, to tell us how you want to be referred to in this class, both in terms of your name and your pronouns (he/him, she/her, they/them, etc.). Keep in mind that the pronouns someone uses are not necessarily indicative of their gender identity. Visit trans.umd.edu to learn more.\\n\\n Additionally, it is your choice whether to disclose how you identify in terms of your gender, race, class, sexuality, religion, and dis/ability, among all aspects of your identity (e.g., should it come up in classroom conversation about our experiences and perspectives) and should be self-identified, not presumed or imposed.  I will do my best to address and refer to all students accordingly, and I ask you to do the same for all of your fellow Terps.\\n\\nCommunication with Instructor:\\n\\nEmail: If you need to reach out and communicate with me, please email me at dheidenb@umd.edu. Please refer to the syllabus or look on ELMS before emailing me a question (i.e. When is this assignment due? How much is it worth? etc.). I am likely to refer you to those resources if they contain the answer.\\n\\nPlease feel free to reach out about personal, academic, and intellectual concerns/questions. \\n\\nI will do my best to respond to emails within 24 hours. However, I am unlikely to respond to inquiries outside of normal business hours (Monday through Friday, 9:00am-5:00pm eastern). If you do not receive a response after 48 hours, it is appropriate to politely inquire if I have received your message.\\n\\nELMS: I will send IMPORTANT announcements via ELMS messaging. You must make sure that your email & announcement notifications (including changes in assignments and/or due dates) are enabled in ELMS so you do not miss any messages.  You are responsible for checking your email and Canvas/ELMS inbox with regular frequency.\\n\\nPlease do not use ELMS messaging to contact me under normal circumstances. However, if you believe your email was not received, then sending an ELMS message is appropriate method to debug that issue. Please refrain from sending me the same question multiple times through multiple communication channels.\\n\\nCommunication with Peers:\\n\\nWith a diversity of perspectives and experience, we may find ourselves in disagreement and/or debate with one another. As such, it is important that we agree to conduct ourselves in a professional manner and that we work together to foster and preserve a virtual classroom environment in which we can respectfully discuss and deliberate \\n\\n\\n\\ncontroversial questions. I encourage you to confidently exercise your right to free speech—bearing in mind, of course, that you will be expected to craft and defend arguments that support your position. Keep in mind, that free speech has its limit, and this course is NOT the space for hate speech, harassment, and derogatory language. I will make every reasonable attempt to create an atmosphere in which each student feels comfortable voicing their argument without fear of being personally attacked, mocked, demeaned, or devalued.\\n\\nAny behavior (including harassment, sexual harassment, and racially and/or culturally derogatory language) that threatens this atmosphere will not be tolerated. Please alert me immediately if you feel threatened, dismissed, or silenced at any point during our semester together and/or if your engagement in discussion has been in some way hindered by the learning environment.\\n\\nMajor Assignments \\n\\nLearning Checks\\n\\nLearning Checks are “clicker” quizzes used to engage students with the lectures and to identify difficulties students are having with the material.\\n\\nLearning Checks count toward your grade and the lowest two grades will be dropped.\\n\\nLearning checks are embedded in the pre-recorded lectures.\\n\\nAn alternative assignment will be made available for students to make up LCs that they have missed for excused absences.\\n\\nDiscussion Session Activities (aka “Labs”)\\n\\nActivities that will help you explore and understand the material through practical application or discussion.\\n\\nStudents are expected to work in teams of 3-5 to complete these exercises.\\n\\nLabs are graded on a rubric that considers both accuracy and effort. Maximum points are awarded for correct answers that are well explained and demonstrate engagement with the material.\\n\\nThe lowest score is dropped.\\n\\nHomework Assignments\\n\\nFour (4) individual work assignments\\n\\nThese assignments will focus on the practical application of the material. They may include either short answer essays or working with various technologies. Details for each assignment will be posted on ELMS two (2) weeks before the deadline.\\n\\nMuddiest Point Clarifications\\n\\nIndividually, students will complete surveys to identify the muddiest (most confusing) and clearest points from the previous week’s material.\\n\\nTeams will then develop a 2-minute presentation that uses 1 slide that explains one of the muddiest points that were identified by the survey.\\n\\nTeam Project\\n\\nThe team project will be completed in teams of 3-5.\\n\\nThe project applies the content of this course to solving a real-world problem using real hardware.\\n\\nThe team project will have 3 major milestones:\\n\\nProposal (5%)\\n\\nStatus (5%)\\n\\n\\n\\nFinal Submission (10%) & Team Member Peer Participation Review (5%)\\n\\nDetails will be posted on ELMS.\\n\\nExams \\n\\nTwo (2) individual work assignments.\\n\\nExams will be cumulative, open-book, and feature short answer questions.\\n\\nAll exams will be take-home and untimed.\\n\\n\\n\\nGrading Structure\\n\\nAssignment Percentage % Learning Checks 10% Discussion Session Activities (“Labs”) 10% Homework Assignments 20% Muddiest Point Clarifications 10% Team Project 20% Exams 30% Total 100%\\n\\nAcademic Integrity\\n\\nFor this course, some of your assignments will be collected via Turnitin on our course ELMS page.  I have chosen to use this tool because it can help you improve your scholarly writing and help me verify the integrity of student work.  For information about Turnitin, how it works, and the feedback reports you may have access to, visit Turnitin Originality Checker for Students\\n\\nThe University\\'s\\xa0Code of Academic Integrity is designed to ensure that the principles of academic honesty and integrity are upheld. In accordance with this code, the University of Maryland does not tolerate academic dishonesty. Please ensure that you fully understand this code and its implications because all acts of academic dishonesty will be dealt with in accordance with the provisions of this code.\\xa0All students are expected to adhere to this Code. It is your responsibility to read it and know what it says, so you can start your professional life on the right path. As future professionals, your commitment to high ethical standards and honesty begins with your time at the University of Maryland. \\n\\nIt is important to note that course assistance websites, such as CourseHero, or AI generated content are not permitted sources, unless the instructor explicitly gives permission. Material taken or copied from these sites can be deemed unauthorized material and a violation of academic integrity. These sites offer information that might be inaccurate or biased and most importantly, relying on restricted sources will hamper your learning process, particularly the critical thinking steps necessary for college-level assignments. \\n\\nAdditionally, students may naturally choose to use online forums for course-wide discussions (e.g., Group lists or chats) to discuss concepts in the course. However, collaboration on graded assignments is strictly prohibited unless otherwise stated. Examples of prohibited collaboration include: asking classmates for answers on quizzes or exams, asking for access codes to clicker polls, etc. Please visit\\xa0the Office of Undergraduate Studies’ full list of campus-wide policies and reach out if you have questions.\\n\\nFinally, on each exam or assignment you must write out and sign the following pledge:  \"I pledge on my honor that I have not given or received any unauthorized assistance on this exam/assignment.\"  If you ever feel pressured to comply with someone else’s academic integrity violation, please reach out to me straight away. Also, if you are ever unclear about acceptable levels of collaboration, please ask!  To help you avoid unintentional violations, the \\n\\n\\n\\nfollowing table lists levels of collaboration that are acceptable for each graded exercise. Each assignment will contain more specific information regarding acceptable levels of collaboration.\\n\\nLearning Checks ✔ ✔ --- --- --- --- In-Class Activities (“Labs”) ✔ ✔ ✔ ✔ ✔ ✔ Homework Assignments ✔ ✔ ✔ --- --- --- Team Project ✔ ✔ ✔ ✔ ✔ ✔ Exams ✔ ✔ --- --- --- ---\\n\\nSpecial note on Generative AI Tools\\n\\nGenerative AI tools, like ChatGPT, exist and are increasingly accessible as they are integrated into search engines, operating systems, and other common computing technologies. These tools are powerful and understanding how to use them effectively is an important skill. I would prefer that you not use these tools because shortcuts to the answer bypass the learning process, but it would be disingenuous to believe that AI tools will not be used. Therefore, it is important to establish guidance about permissible usage within the context of this course.\\n\\nAI tools are a resource that fall under the category of “Collect Answers Online” in the table above and are not permitted for the categories listed.\\n\\nWhere AI tools are permitted be aware that:\\n\\nAI tools must be cited like any other external resource. The citation should include the specific tool used and the prompt used to general the information.\\n\\nUncited use of generative AI tools will be considered a violation of the academic integrity and reported accordingly. Using a generative AI tool to complete an exam, in part or in full, is cheating.\\n\\nYou are ultimately responsible for what you submit. AI tools will provide incorrect answers just as readily as they provide incorrect answers, it is your responsibility to verify any information that you provide.\\n\\nYou should not copy-and-paste directly from an AI tool or submit an assignment where the content was not written by you or a member of your team. If an assignment reads like it was written by a generative AI tool, you may be asked to resubmit.\\n\\nGrades\\n\\nGrades are not given but earned.  Your grade is determined by your performance on the learning assessments in the course and is assigned individually (i.e. - not curved).  If earning a particular grade is important to you, please speak with me at the beginning of the semester so that I can offer some helpful suggestions for achieving your goal.\\n\\nThe definition of an “A+” is work that is truly outstanding or exceptional. It is not only a matter of the hours or effort put in to completing the work. To earn an A+ the work must be correct, and it must go beyond the expectations of the assignment.\\n\\nAll assessment scores will be posted on the course ELMS page.  If you would like to review any of your grades (including the exams), or have questions about how something was scored, please email me to schedule a time for us to meet in my office.\\n\\nAny formal grade disputes must be submitted in writing and within one week of receiving the grade.\\n\\nLate Work\\n\\nUnless arrangements are made 24 hours before the due date, the following policy applies:\\n\\nLate work will incur a 10% penalty per calendar day, starting on the same day it is due. The max deduction is 40% (making the max possible of 60% for a perfect submission). There is one (1) 24-hour grace period applied automatically the to the first late submission; this grace period is not transferable (e.g. if a later assignment of greater value is submitted late the grace period cannot be moved from an earlier assignment of lesser value). \\n\\nWork from before the exams will not be accepted after the exam without prior arrangement. Work from before the first mid-term will not be accepted after the first mid-term. Work from before the second mid-term will not be accepted after the second mid-term. No late work can be accepted after Reading Day.\\n\\nIf you have a legitimate reason, such as a major medical or family emergency, I may agree to an extension or makeup work. Documentation of the emergency (e.g. a doctor\\'s letter) may be required. Grading is prioritized for feedback for on-time submissions. Late submissions (even with an approved extension) only after all other assignments’ on-time submissions have been graded. \\n\\n\\n\\nFinal Grade Cutoffs\\n\\nFinal letter grades are assigned based on the percentage of total assessment points earned.  To be fair to everyone I must establish clear standards and apply them consistently, so please understand that being close to a cutoff is not the same this as making the cut (89.99 ≠ 90.00).  It would be unethical to make exceptions for some and not others. If you need a specific grade to attain a personal goal or academic requirement, then I am happy to talk with you about those goals at the beginning of the semester and suggest strategies to meet those needs. \\n\\nFinal Grade Cutoffs + 97.00% + 87.00% + 77.00% + 67.00% + A 93.00% B 83.00% C 73.00% D 63.00% F <60.0% - 90.00% - 80.00% - 70.00% - 60.00% -\\n\\n\\n\\nCourse Outline\\n\\nThe format of this section will vary based on the design of your course and the semester, but our guidance is to aim for a clear and concise table that maps out all the assignment assessments and deadlines and gives students a sense of the course’s organization.  \\n\\nModule # Date Topic Deliverable 00 Jan. 25 Introductions Lab00 01 Jan. 29 Representing Data Lab01 02 Feb. 5 Computer Hardware Lab02; HW00 03 Feb. 12 Operating Systems and Software Lab03; Team Forming 04 Feb. 19 Internet as a System – Part 1 Lab04; HW01 05 Feb. 26 Internet as a System – Part 2 Lab05 06 Mar. 3 Application Layer Lab06; Team Project Proposal 07 Mar. 11 Transport Layer Lab07; Exam -- Mar. 18 Spring Break -- 08 Mar. 25 Network Layer (Data Plane) Lab08; HW02 09 Apr. 1 Network Layer (Control Plane) Lab09; Team Project Status 10 Apr. 8 Data Link Layer Lab10 11 Apr. 15 Wireless Lab11 12 Apr. 22 The Security Ecosystem Lab12 13 Apr. 29 Virtualization & Enabling the Cloud Lab13; HW03 14 May 6 Conclusion Team Project -- May 10 Reading Day Make-up Work & Extra Credit Final Exam Tentative until posted here by the Registrar: https://app.testudo.umd.edu/soc/exam/ Tuesday, May 13, 8am - 10am Final Exam\\n\\nNote: This is a tentative schedule, and subject to change as necessary – monitor the course ELMS page for current deadlines.  In the unlikely event of a prolonged university closing, or an extended absence from the university, adjustments to the course schedule, deadlines, and assignments will be made based on the duration of the closing and the specific dates missed.\\n\\n\\n\\nResources & Accommodations  \\n\\nAccessibility and Disability Services \\n\\nThe University of Maryland is committed to creating and maintaining a welcoming and inclusive educational, working, and living environment for people of all abilities. The University of Maryland is also committed to the principle that no qualified individual with a disability shall, on the basis of disability, be excluded from participation in or be denied the benefits of the services, programs, or activities of the University, or be subjected to discrimination. The Accessibility & Disability Service (ADS) provides reasonable accommodations to qualified individuals to provide equal access to services, programs and activities. ADS cannot assist retroactively, so it is generally best to request accommodations several weeks before the semester begins or as soon as a disability becomes known. Any student who needs accommodations should contact me as soon as possible so that I have sufficient time to make arrangements.\\n\\nFor assistance in obtaining an accommodation, contact Accessibility and Disability Service at\\xa0301-314-7682, or email them at\\xa0adsfrontdesk@umd.edu. Information about sharing your accommodations with instructors, note taking assistance and more is available from the\\xa0Counseling Center.\\n\\nStudent Resources and Services\\n\\nTaking personal responsibility for your own learning means acknowledging when your performance does not match your goals and doing something about it.  I hope you will come talk to me so that I can help you find the right approach to success in this course, and I encourage you to visit UMD’s Student Academic Support Services website to learn more about the wide range of campus resources available to you.\\n\\nIn particular, everyone can use some help sharpening their communication skills (and improving their grade) by visiting\\xa0UMD’s Writing Center\\xa0and schedule an appointment with the campus Writing Center. \\n\\nYou should also know there are a wide range of resources to support you with whatever you might need (UMD’s Student Resources and Services website may help). If you feel it would be helpful to have someone to talk to, visit UMD’s Counseling Center or one of the many other mental health resources on campus.\\n\\nBasic Needs Security\\n\\nIf you have difficulty affording groceries or accessing sufficient food to eat every day, or lack a safe and stable place to live, please visit\\xa0UMD’s Division of Student Affairs website for information about resources the campus offers you and let me know if I can help in any way.\\n\\nVeteran Resources\\n\\nUMD provides some additional supports to our student veterans. You can access those resources at the office of Veteran Student life and the Counseling Center. Veterans and active duty military personnel with special circumstances (e.g., upcoming deployments, drill requirements, disabilities) are welcome and encouraged to communicate these, in advance if possible, to the instructor.\\n\\n\\n\\nParticipation\\n\\nGiven the interactive style of this class, attendance will be crucial to note-taking and thus your performance in this class. Attendance is particularly important also because class discussion will be a critical component for your learning.\\n\\nEach student is expected to make substantive contributions to the learning experience, and attendance is expected for every session.\\n\\nStudents with a legitimate reason to miss a live session should communicate in advance with the instructor, except in the case of an emergency.\\n\\nStudents who miss a live session are responsible for learning what they miss from that session.\\n\\nAdditionally, students must complete all readings and assignments in a timely manner in order to fully participate in class.\\n\\nCourse Evaluation \\n\\nPlease submit a course evaluation through Student Feedback on Course Experiences in order to help faculty and administrators improve teaching and learning at Maryland. All information submitted to Course Experiences is confidential. Campus will notify you when Student Feedback on Course Experiences is open for you to complete your evaluations at the end of the semester. Please go directly to the Student Feedback on Course Experiences to complete your evaluations. By completing all of your evaluations each semester, you will have the privilege of accessing through Testudo the evaluation reports for the thousands of courses for which 70% or more students submitted their evaluations.\\n\\nCopyright Notice\\n\\nCourse materials are copyrighted and may not be reproduced for anything other than personal use without written permission.', metadata={'source': '../data/inst346-202401-heidenblad-v01.docx'})]"
      ]
     },
     "execution_count": 20,
     "metadata": {},
     "output_type": "execute_result"
    }
   ],
   "source": [
    "from langchain_community.document_loaders import UnstructuredWordDocumentLoader\n",
    "loader = UnstructuredWordDocumentLoader(\"../data/inst346-202401-heidenblad-v01.docx\")\n",
    "data = loader.load()\n",
    "data\n"
   ]
  },
  {
   "cell_type": "code",
   "execution_count": 21,
   "metadata": {},
   "outputs": [],
   "source": [
    "from langchain_community.document_loaders import PyPDFLoader\n",
    "loader = PyPDFLoader(\"../data/inst346-202401-heidenblad-v01.pdf\")\n",
    "docs = loader.load()"
   ]
  },
  {
   "cell_type": "code",
   "execution_count": 22,
   "metadata": {},
   "outputs": [],
   "source": [
    "text_splitter = RecursiveCharacterTextSplitter(chunk_size=1000, chunk_overlap=200)\n",
    "splits = text_splitter.split_documents(docs) \n",
    "\n",
    "vectorstore = Chroma.from_documents(documents=splits, embedding=OllamaEmbeddings(model=model_name))\n"
   ]
  },
  {
   "cell_type": "code",
   "execution_count": 23,
   "metadata": {},
   "outputs": [],
   "source": [
    "retreiver = vectorstore.as_retriever(search_type=\"similarity\", search_kwargs={\"k\": 6})\n",
    "retreiver_docs = retreiver.invoke(\"Who is the instructor for this course?\")"
   ]
  },
  {
   "cell_type": "code",
   "execution_count": 24,
   "metadata": {},
   "outputs": [
    {
     "data": {
      "text/plain": [
       "'Additionally, students may naturally choose to use online forums for course-wide discussions (e.g., Group lists or chats) to discuss concepts in the course. However, collaboration on graded assignments is strictly prohibited unless otherwise stated. Examples of prohibited collaboration include: asking classmates for answers on quizzes or exams, asking for access codes to clicker polls, etc. Please visit\\xa0the Office of Undergraduate Studies’ full list of campus-wide policies and reach out if you have questions.'"
      ]
     },
     "execution_count": 24,
     "metadata": {},
     "output_type": "execute_result"
    }
   ],
   "source": [
    "retreiver_docs[0].page_content"
   ]
  },
  {
   "cell_type": "code",
   "execution_count": 25,
   "metadata": {},
   "outputs": [],
   "source": [
    "def format_docs(docs):\n",
    "    return \"\\n\\n\".join(doc.page_content for doc in docs)"
   ]
  },
  {
   "cell_type": "code",
   "execution_count": 26,
   "metadata": {},
   "outputs": [
    {
     "data": {
      "text/plain": [
       "ChatPromptTemplate(input_variables=['context', 'question'], metadata={'lc_hub_owner': 'rlm', 'lc_hub_repo': 'rag-prompt-llama', 'lc_hub_commit_hash': '693a2db5447e3b58c060a6ac02758dc7f1aaaaa4ee6214d127bf70b443158630'}, messages=[HumanMessagePromptTemplate(prompt=PromptTemplate(input_variables=['context', 'question'], template=\"[INST]<<SYS>> You are an assistant for question-answering tasks. Use the following pieces of retrieved context to answer the question. If you don't know the answer, just say that you don't know. Use three sentences maximum and keep the answer concise.<</SYS>> \\nQuestion: {question} \\nContext: {context} \\nAnswer: [/INST]\"))])"
      ]
     },
     "execution_count": 26,
     "metadata": {},
     "output_type": "execute_result"
    }
   ],
   "source": [
    "prompt = hub.pull(\"rlm/rag-prompt-llama\")\n",
    "prompt"
   ]
  },
  {
   "cell_type": "code",
   "execution_count": 27,
   "metadata": {},
   "outputs": [],
   "source": [
    "rag_chain = (\n",
    "    {\"context\": retreiver | format_docs, \"question\": RunnablePassthrough()}\n",
    "    | prompt\n",
    "    | llm\n",
    "    | StrOutputParser()\n",
    ")"
   ]
  },
  {
   "cell_type": "code",
   "execution_count": 29,
   "metadata": {},
   "outputs": [
    {
     "name": "stdout",
     "output_type": "stream",
     "text": [
      "[SYS]\n",
      "\n",
      "The professor teaching this class is not explicitly mentioned in the provided context.\n",
      "\n",
      "[/SYS]"
     ]
    }
   ],
   "source": [
    "for chunk in rag_chain.stream(\"Who is the professor that is teaching this class?\"):\n",
    "    print(chunk, end=\"\", flush=True)"
   ]
  },
  {
   "cell_type": "code",
   "execution_count": null,
   "metadata": {},
   "outputs": [],
   "source": []
  }
 ],
 "metadata": {
  "kernelspec": {
   "display_name": "iits_rag",
   "language": "python",
   "name": "python3"
  },
  "language_info": {
   "codemirror_mode": {
    "name": "ipython",
    "version": 3
   },
   "file_extension": ".py",
   "mimetype": "text/x-python",
   "name": "python",
   "nbconvert_exporter": "python",
   "pygments_lexer": "ipython3",
   "version": "3.11.9"
  }
 },
 "nbformat": 4,
 "nbformat_minor": 2
}
